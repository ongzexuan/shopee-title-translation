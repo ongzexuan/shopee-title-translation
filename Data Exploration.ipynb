{
 "cells": [
  {
   "cell_type": "code",
   "execution_count": 1,
   "metadata": {},
   "outputs": [],
   "source": [
    "import csv\n",
    "import googletrans\n",
    "import seaborn as sns\n",
    "import matplotlib.pyplot as plt\n",
    "\n",
    "\n",
    "from collections import Counter\n",
    "from pandas import DataFrame\n",
    "from random import sample"
   ]
  },
  {
   "cell_type": "markdown",
   "metadata": {},
   "source": [
    "### Dataset Paths"
   ]
  },
  {
   "cell_type": "code",
   "execution_count": 2,
   "metadata": {},
   "outputs": [],
   "source": [
    "TRAIN_ENG=\"data/train_en.csv\"\n",
    "TRAIN_TCN=\"data/train_tcn.csv\"\n",
    "DEV_ENG=\"data/dev_en.csv\"\n",
    "DEV_TCN=\"data/dev_tcn.csv\"\n",
    "TEST_TCN=\"data/test_tcn.csv\""
   ]
  },
  {
   "cell_type": "markdown",
   "metadata": {},
   "source": [
    "### Data Denoise and Collection\n",
    "\n",
    "Dataset contains very poor and inconsistent handling of double quotes. For the ENG datasets, the only real value of the double quote is to indicate 'inches' for measurements in certain contexts. Otherwise, double quotes have no real value and can be removed. The dataset is also not a true CSV, with inconsistent number of columns in the dataset. This problem is also present in the TCN dataset.\n",
    "\n",
    "After manually analyzing the errors, here's how we can recover most of the broken data:\n",
    "\n",
    "1. Replace all \\\" (backslash double quote) with a placeholder.\n",
    "\n",
    "2. Remove all \", then recover all \\\"\n",
    "\n",
    "3. Don't use Python CSV reader, perform manual string splits by commas. Use rfind to find last comma, which indicates the start of the category label, except for the \"Toys, Games & Collectibles\" category. We handle that as a special case.\n",
    "\n",
    "4. If line does not have commas, it will be rolled over (prepended) to the next line (this is because actual data is broken over multiple lines, most likely because user had a newline in the input which team did not sanitize)"
   ]
  },
  {
   "cell_type": "code",
   "execution_count": 3,
   "metadata": {},
   "outputs": [],
   "source": [
    "hardcoded_eng_categories = [\"Hobbies & Stationery\",\n",
    "                            \"Health & Personal Care\",\n",
    "                            \"Mobile Accessories\",\n",
    "                            \"Home & Living\",\n",
    "                            \"Women's Apparel\",\n",
    "                            \"Women Shoes\",\n",
    "                            \"Babies & Kids\",\n",
    "                            \"Women Accessories\",\n",
    "                            \"Toys, Games & Collectibles\",\n",
    "                            \"Groceries\",\n",
    "                            \"Motors\",\n",
    "                            \"Makeup & Fragrances\",\n",
    "                            \"Women's Bags\",\n",
    "                            \"Men's Apparel\",\n",
    "                            \"Pet Care\",\n",
    "                            \"Men's Bags & Accessories\",\n",
    "                            \"Sports & Travel\",\n",
    "                            \"Men Shoes\",\n",
    "                            \"Gaming\",\n",
    "                            \"Laptops & Computers\",\n",
    "                            \"Home Entertainment\",\n",
    "                            \"Mobiles & Gadgets\",\n",
    "                            \"Cameras\",\n",
    "                            \"Home Appliances\",\n",
    "                            \"Consumer Electronics\",\n",
    "                            \"Digital Goods & Vouchers\"]\n",
    "hardcoded_eng_categories = set(hardcoded_eng_categories)"
   ]
  },
  {
   "cell_type": "code",
   "execution_count": 4,
   "metadata": {},
   "outputs": [],
   "source": [
    "hardcoded_tcn_categories = [\"Health & Beauty\",\n",
    "                            \"Game Kingdom\",\n",
    "                            \"Life & Entertainment\",\n",
    "                            \"Mother & Baby\",\n",
    "                            \"Men's Apparel\",\n",
    "                            \"Women's Apparel\",\n",
    "                            \"Women Bags\",\n",
    "                            \"Women Shoes\",\n",
    "                            \"Home & Living\",\n",
    "                            \"Everything Else\",\n",
    "                            \"Hardware & 3C\",\n",
    "                            \"Men's Bags& Accessories\",\n",
    "                            \"Sports & Outdoors\",\n",
    "                            \"Helpbuy\",\n",
    "                            \"Men Shoes\",\n",
    "                            \"Books\",\n",
    "                            \"Motors\",\n",
    "                            \"Home Electronic\",\n",
    "                            \"Food & Beverages\",\n",
    "                            \"Mobile & Gadgets\",\n",
    "                            \"Women Accessories\",\n",
    "                            \"Pets\",\n",
    "                            \"Tickets & Services\"]\n",
    "hardcoded_tcn_categories = set(hardcoded_tcn_categories)"
   ]
  },
  {
   "cell_type": "code",
   "execution_count": 5,
   "metadata": {},
   "outputs": [],
   "source": [
    "def get_eng_data(filename, categories=hardcoded_eng_categories, LIMIT=-1):\n",
    "\n",
    "    rows = []\n",
    "    \n",
    "    with open(filename) as f:\n",
    "        \n",
    "        count = 0\n",
    "        \n",
    "        # Ignore header\n",
    "        next(f)\n",
    "        \n",
    "        # Setup rollover\n",
    "        prev = \"\"\n",
    "        \n",
    "        # Iterate over lines\n",
    "        for line in f:\n",
    "            line = prev + \" \" + line\n",
    "            line = line.replace('\\\\\"', \"<XXX>\")\n",
    "            line = line.replace('\"', '')\n",
    "            line = line.replace(\"<XXX>\", '\"').strip()\n",
    "            \n",
    "            tokens = line.split(\",\")\n",
    "            if len(tokens) == 1: # no commas\n",
    "                prev = line\n",
    "                continue\n",
    "                            \n",
    "            category = tokens[-1] # Category is the last token\n",
    "            \n",
    "            # Check against list of categories so we don't admit nonsense\n",
    "            if category not in categories:\n",
    "                            \n",
    "                # Handle special case            \n",
    "                if \"Games & Collectibles\" in category:\n",
    "                    category = \"{}, {}\".format(tokens[-2].strip(), tokens[-1].strip())\n",
    "                    rows.append((\",\".join(tokens[:-2]), category))\n",
    "                else:\n",
    "                    continue                \n",
    "            else:\n",
    "                rows.append((\",\".join(tokens[:-1]), category))\n",
    "                \n",
    "            prev = \"\" # Clear out rollover\n",
    "                \n",
    "            count += 1\n",
    "            \n",
    "            # Early terminate if specified\n",
    "            if LIMIT >= 0 and count >= LIMIT:\n",
    "                break\n",
    "            \n",
    "    return rows\n",
    "    \n",
    "\n",
    "def get_tcn_data(filename, categories=hardcoded_tcn_categories, LIMIT=-1):\n",
    "    \n",
    "    rows = []\n",
    "    \n",
    "    with open(filename) as f:\n",
    "        \n",
    "        count = 0\n",
    "        \n",
    "        # Ignore header\n",
    "        next(f)\n",
    "        \n",
    "        # Setup rollover\n",
    "        prev = \"\"\n",
    "        \n",
    "        # Iterate over lines\n",
    "        for line in f:\n",
    "            \n",
    "            line = prev + line\n",
    "            comma_index = line.rfind(\",\")\n",
    "            if comma_index < 0:\n",
    "                prev = line\n",
    "                continue\n",
    "                                \n",
    "            category = line[comma_index + 1:].strip() # Category is the last token\n",
    "            \n",
    "            \n",
    "            # Check against list of categories so we don't admit nonsense\n",
    "            if category not in categories:\n",
    "                continue\n",
    "\n",
    "            rows.append((line[:comma_index].strip(), category))\n",
    "                \n",
    "            prev = \"\" # Clear out rollover\n",
    "                \n",
    "            count += 1\n",
    "            \n",
    "            # Early terminate if specified\n",
    "            if LIMIT >= 0 and count >= LIMIT:\n",
    "                break\n",
    "            \n",
    "    return rows\n",
    "\n",
    "\n",
    "def get_generic_data(filename, LIMIT=-1):\n",
    "    \n",
    "    rows = []\n",
    "    \n",
    "    with open(filename) as f:\n",
    "        \n",
    "        count = 0\n",
    "        \n",
    "        # Ignore header\n",
    "        next(f)\n",
    "        \n",
    "        # Iterate over lines\n",
    "        for line in f:\n",
    "            \n",
    "            rows.append((line.strip(), \"private\"))\n",
    "            count += 1\n",
    "            \n",
    "            # Early terminate if specified\n",
    "            if LIMIT >= 0 and count >= LIMIT:\n",
    "                break\n",
    "            \n",
    "    return rows\n"
   ]
  },
  {
   "cell_type": "code",
   "execution_count": 25,
   "metadata": {},
   "outputs": [],
   "source": [
    "# Define a sample size for viewing sample parsing results\n",
    "SAMPLE_SIZE=10"
   ]
  },
  {
   "cell_type": "code",
   "execution_count": 33,
   "metadata": {},
   "outputs": [
    {
     "name": "stdout",
     "output_type": "stream",
     "text": [
      "DC Off Shoulder Blouse\n",
      "Peach Sleeveless Dress (brand: Philosophy)\n",
      "Cetaphil hair and body for baby (Authentic)\n",
      "(Chrome) Universal Motorcycle Air Filter Adjustable\n",
      "PRIMA WATERCOLOR CONFECTIONS - WOODLANDS\n",
      "Soft Wired Hair Wrap\n",
      "airpods pro case peaceminusone GD earphone cover silicone\n",
      "ORIGINAL TRIBAL HOODIE TOP\n",
      "heart evangelista embroidered jacket\n",
      "Brand New Branded Shoes for Infants & Toddlers\n",
      "Read 503193 examples.\n"
     ]
    }
   ],
   "source": [
    "train_eng_data = get_eng_data(TRAIN_ENG)\n",
    "for ex in sample(train_eng_data, SAMPLE_SIZE):\n",
    "    print(ex[0])\n",
    "print(\"Read {} examples.\".format(len(train_eng_data)))"
   ]
  },
  {
   "cell_type": "code",
   "execution_count": 34,
   "metadata": {},
   "outputs": [
    {
     "name": "stdout",
     "output_type": "stream",
     "text": [
      "★現貨上市★🎈 愛心圖案情侶鞋 百搭小白鞋 正韓時尚低幫男鞋女鞋 板鞋\n",
      "女童。短襪。貓咪襪子\n",
      "運動藍牙耳機雙耳無線跑步頸掛脖式入耳式超長待機續航掛耳式oppo\n",
      "【新森活家具】《瑪丹娜》雙人加大 L型沙發床  沙發床 咖啡紫 北歐風 亞麻布 布沙發 鐵腳 簡約風 非 ikea\n",
      "孕婦枕哺乳枕頭喂奶枕護腰横抱婴兒躺喂神器寶寶侧睡四季通用懒人哺乳枕\n",
      "客單：羅淑\n",
      "7月~直筒割破寬闊腿牛仔褲，下盤肉肉必敗款\n",
      "WMNS NIKE AIR MAX 95 正品 白 灰 深藍 橘黃 桃紅\n",
      "正版 雷標 名偵探柯南 工藤新一 坐姿款 12吋 毛利小五郎 毛利蘭\n",
      "ghd platinum+新白金造型夾（台版）\n",
      "Read 500295 examples.\n"
     ]
    }
   ],
   "source": [
    "train_tcn_data = get_tcn_data(TRAIN_TCN)\n",
    "for ex in sample(train_tcn_data, SAMPLE_SIZE):\n",
    "    print(ex[0])\n",
    "print(\"Read {} examples.\".format(len(train_tcn_data)))"
   ]
  },
  {
   "cell_type": "code",
   "execution_count": 35,
   "metadata": {},
   "outputs": [
    {
     "name": "stdout",
     "output_type": "stream",
     "text": [
      "Augelute Kids Set Home Forest Belly Short Sleeve Set\n",
      "Japan ambai Snow Pan 14cm - Koizumi and Japan Made ISK - 52014\n",
      "Airpillow Samsung Note 4 / Note 5 Full Air Cushion Clear Transparent Back Cover\n",
      "Integrated Forming Road Safety Hat\n",
      "Attract Fortune No. 75 Premium Moxa Indonesia / Pcs\n",
      "Ozaki WOW WR325 25W 2.2 Dual Bass Speaker\n",
      "Flamingo Flower Glass Phone Case S9/S9+/J7+/s7 edge/J7Prime/NOTE8/A8 2018\n",
      "Japan kalita Red Brass coffee spoon 10g\n",
      "Coach Full Leather Flip Magnetic Snap Leisure Oblique Backpack\n",
      "\"12 \"\"Super Bright Luminous Stereo Convex word Mute Clock 0737\"\n",
      "Read 1000 examples.\n"
     ]
    }
   ],
   "source": [
    "dev_eng_data = get_generic_data(DEV_ENG)\n",
    "for ex in sample(dev_eng_data, SAMPLE_SIZE):\n",
    "    print(ex[0])\n",
    "print(\"Read {} examples.\".format(len(dev_eng_data)))"
   ]
  },
  {
   "cell_type": "code",
   "execution_count": 36,
   "metadata": {},
   "outputs": [
    {
     "name": "stdout",
     "output_type": "stream",
     "text": [
      "嬰幼兒短褲 嬰兒褲子 寶寶短褲 童裝 UG40523 好娃娃\n",
      "情趣純白亮面三件式護士角色扮演服 白【AB01619】i-style\n",
      "PENTEL K600金屬鋼珠筆\n",
      "顏文字小香蕉 鑰匙掛飾 紓壓小物 手機吊飾\n",
      "CRYSTAL BALL ( GALSIA MARKEZ Crown Canvas Tote Bag )\n",
      "火烈鸟 花儿 玻璃镜面 手机壳 S9/S9+/J7+/s7 edge/J7Prime/NOTE8/A8 2018 吊饰孔\n",
      "法國水漾-頂級魚鱗膠原蛋白水蜜桃口味\n",
      "ORIENT 東方錶 DATEⅡ機械錶 FAC0000DD\n",
      "施德樓 MS229NC12 快樂學園加寬型蠟筆十二色組/盒\n",
      "德一 卡賀方塊酥袋裝300G\n",
      "Read 1000 examples.\n"
     ]
    }
   ],
   "source": [
    "dev_tcn_data = get_tcn_data(DEV_TCN, categories=set([\"private\", \"public\"]))\n",
    "for ex in sample(dev_tcn_data, SAMPLE_SIZE):\n",
    "    print(ex[0])\n",
    "print(\"Read {} examples.\".format(len(dev_tcn_data)))"
   ]
  },
  {
   "cell_type": "code",
   "execution_count": 32,
   "metadata": {},
   "outputs": [
    {
     "name": "stdout",
     "output_type": "stream",
     "text": [
      "後背包 艾杜紗質感皮革後背包-Joanna Shop\n",
      "mt 2017 Summer Basic & Deco 系列全包組\n",
      "PolarStar 中性 鋪棉連帽保暖外套『灰綠』 P18217\n",
      "MONA FREMA 荷麗美加 HAG萬倍吸水玻尿酸 100ml\n",
      "男童拖鞋 POLI波力授權正版拖鞋 魔法Baby~sa71026\n",
      "派克 PARKER IM 經典高尚系列 霧黑金夾 原子筆 P011882\n",
      "SKECHERS GO WALK 健走系列 女 13800CHAR\n",
      "兩件套嬰幼兒童童裝無袖短褲\n",
      "Gucci Guilty Diamond 罪愛 鑽石限量版 男性淡香水 90ml\n",
      "復古 電動 iPhone8 iPhone7 6s Plus i6 i7 i8 手機殼\n",
      "Read 10000 examples.\n"
     ]
    }
   ],
   "source": [
    "test_tcn_data = get_eng_data(TEST_TCN, categories=set([\"private\", \"public\"]))\n",
    "for ex in sample(test_tcn_data, SAMPLE_SIZE):\n",
    "    print(ex[0])\n",
    "print(\"Read {} examples.\".format(len(test_tcn_data)))"
   ]
  },
  {
   "cell_type": "markdown",
   "metadata": {},
   "source": [
    "### Category Analysis\n",
    "\n",
    "Brief look at the distribution of categories for products. Note that categories were only provided for the initial two training ENG and TCN datasets. The new dev datasets and the test datasets effectively have no category labels, so YMMV."
   ]
  },
  {
   "cell_type": "code",
   "execution_count": 12,
   "metadata": {},
   "outputs": [
    {
     "data": {
      "image/png": "[encoded data removed]",
      "text/plain": [
       "<Figure size 432x288 with 1 Axes>"
      ]
     },
     "metadata": {
      "needs_background": "light"
     },
     "output_type": "display_data"
    }
   ],
   "source": [
    "# Training English Categories\n",
    "train_eng_categories = Counter(list(zip(*train_eng_data))[1])\n",
    "train_eng_categories_df = DataFrame(sorted(train_eng_categories.items(), key=lambda x: x[1], reverse=True), columns=[\"Category\", \"Count\"])\n",
    "train_eng_categories_df.plot(kind=\"bar\", x=\"Category\")\n",
    "\n",
    "plt.show()"
   ]
  },
  {
   "cell_type": "code",
   "execution_count": 13,
   "metadata": {},
   "outputs": [
    {
     "data": {
      "image/png": "[encoded data removed]",
      "text/plain": [
       "<Figure size 432x288 with 1 Axes>"
      ]
     },
     "metadata": {
      "needs_background": "light"
     },
     "output_type": "display_data"
    }
   ],
   "source": [
    "# Training Chinese Categories\n",
    "train_tcn_categories = Counter(list(zip(*train_tcn_data))[1])\n",
    "train_tcn_categories_df = DataFrame(sorted(train_tcn_categories.items(), key=lambda x: x[1], reverse=True), columns=[\"Category\", \"Count\"])\n",
    "train_tcn_categories_df.plot(kind=\"bar\", x=\"Category\")\n",
    "\n",
    "plt.show()"
   ]
  },
  {
   "cell_type": "markdown",
   "metadata": {},
   "source": [
    "### Attempts at Direct Translation Using Google Translate"
   ]
  },
  {
   "cell_type": "code",
   "execution_count": 14,
   "metadata": {},
   "outputs": [],
   "source": [
    "from googletrans import Translator"
   ]
  },
  {
   "cell_type": "code",
   "execution_count": 15,
   "metadata": {},
   "outputs": [],
   "source": [
    "translator = Translator()"
   ]
  },
  {
   "cell_type": "code",
   "execution_count": 21,
   "metadata": {},
   "outputs": [
    {
     "name": "stdout",
     "output_type": "stream",
     "text": [
      "現貨 全新 氣質典雅 天然小翡翠 925銀 活圍戒 003 -> Spot new temperament elegant natural small jadeite 925 silver live ring 003\n",
      "【售】若終究沒有永遠，每個有你的瞬間都多一點(親簽版) -> [Sale] If not forever, every moment you have a little more (pro-signature version)\n",
      "【飛越家私】北歐茶幾電視柜組合2020新款輕奢茶桌客廳家用桌子簡約現代正方形 -> [Fly over furniture] Nordic coffee table TV cabinet combination 2020 new light luxury tea table living room home table simple modern square\n",
      "14AW C.E CAVEMPT BOX LOGO 兩袖拼接帽衫連帽 長袖 衛衣 -> 14AW C.E CAVEMPT BOX LOGO two-sleeve stitching hoodie hooded long-sleeved sweater\n",
      "現貨～超好寫可愛雙色筆（藍、紅） -> Spot ~ Super easy to write cute two-color pen (blue, red)\n",
      "偉誠蔘藥行—羅漢果茶10入《現貨24hr內出貨》 -> Weicheng Ginseng Medicine Co., Ltd.-Luohan Guocha 10 into \"Spot Delivery within 24hr\"\n",
      "SK 世鎧精密 M5 工作長100mm SDS-PLUS 四溝水泥鑽頭 三刃 -> SK Shijia Precision M5 100mm working length SDS-PLUS four-groove cement drill bit three-edged\n",
      "Puma Suede平台跑步運動鞋 -> Puma Suede platform running sneakers\n",
      "iPhone SE2 X XS Max XR 8 7 6 Plus 軟萌創意微立體汪寵軟殼手機殼 -> iPhone SE2 X XS Max XR 8 7 6 Plus soft cute creative micro three-dimensional Wang Chong soft shell mobile phone case\n",
      "灰色彈力布厚底短靴39*碼偏小，適合腳長23.5-24公分 -> Gray stretch cloth platform boots 39* size is too small, suitable for foot length 23.5-24 cm\n",
      "風格 COACH 全新正品  14501285 經典時尚不銹鋼大錶盤手錶 時尚精鋼錶帶女手錶 全場特價 -> Style COACH Brand New Genuine 14501285 Classic Fashion Stainless Steel Large Dial Watch Fashion Stainless Steel Strap Women's Watch Special Offer\n",
      "【台灣寄出】限時折扣召喚小櫻抖音同款（現貨）新品魔法光陣無線充電器5W10W -> [Sending in Taiwan] Limited time discount call Sakura Douyin same paragraph (spot) new magic light array wireless charger 5W10W\n",
      "「24包含運賣場」酒精擦 90抽  立得清 2023新品現貨 酒精擦濕巾 酒精擦90抽 -> \"24 Inclusive Store\" Alcohol Wipe 90 Draws Lideqing 2023 New Products Spot Alcohol Wipes Wipe 90 Draw\n",
      "【妮妮】新版 901HS 氣壓定高限量送護架及備用螺旋槳! 超越 901S迷你 空拍機四軸 飛機 -> [Nini] The new version of the 901HS air pressure fixed height limited delivery guard and spare propellers! Beyond the 901S mini aerial camera four-axis aircraft\n",
      "汽車後視鏡防雨膜納米倒車鏡防霧反光鏡玻璃防水長效貼膜通用全屏 進口材質 持久防雨 -> Car rearview mirror rain film nano reversing mirror anti-fog mirror glass waterproof long-term film universal full screen imported material durable rain\n",
      "Sony PS3 320g 木炭黑主機  另售遊戲片 -> Sony PS3 320g charcoal black console\n",
      "@爆品下殺@兒童吸管杯塑料防摔防漏水杯幼兒園小學生寶寶背帶時尚小巧水壺瓶 -> @爆品下杀@Children's sippy cup plastic anti-fall and leak-proof cup kindergarten pupils baby strap fashion compact bottle\n",
      "Burberry 巴寶莉圓領短袖M-XXL 圓領短袖 夏季 男生 T恤 超贊品質4106278 -> Burberry Burberry round neck short sleeve M-XXL round neck short sleeve summer boys T-shirt awesome quality 4106278\n",
      "古早味紅茶  仙草紅茶 -> Ancient early flavor black tea\n",
      "韓國女士假髮套偏分長卷發空氣劉海玉米燙長髮蓬鬆逼真波浪泡面卷 -> Korean lady's wig set partial long curly hair air bangs corn hot long hair fluffy and realistic wave instant noodle roll\n"
     ]
    }
   ],
   "source": [
    "for ex in sample(train_tcn_data, 20):\n",
    "    print(ex[0] + \" -> \" + translator.translate(ex[0], dest=\"en\").text)"
   ]
  },
  {
   "cell_type": "code",
   "execution_count": 37,
   "metadata": {},
   "outputs": [
    {
     "ename": "KeyboardInterrupt",
     "evalue": "",
     "output_type": "error",
     "traceback": [
      "\u001b[0;31m---------------------------------------------------------------------------\u001b[0m",
      "\u001b[0;31mKeyboardInterrupt\u001b[0m                         Traceback (most recent call last)",
      "\u001b[0;32m<ipython-input-37-ff2f9bd86777>\u001b[0m in \u001b[0;36m<module>\u001b[0;34m\u001b[0m\n\u001b[1;32m      1\u001b[0m \u001b[0mtest_translations\u001b[0m \u001b[0;34m=\u001b[0m \u001b[0;34m[\u001b[0m\u001b[0;34m]\u001b[0m\u001b[0;34m\u001b[0m\u001b[0;34m\u001b[0m\u001b[0m\n\u001b[1;32m      2\u001b[0m \u001b[0;32mfor\u001b[0m \u001b[0mex\u001b[0m \u001b[0;32min\u001b[0m \u001b[0mtest_tcn_data\u001b[0m\u001b[0;34m:\u001b[0m\u001b[0;34m\u001b[0m\u001b[0;34m\u001b[0m\u001b[0m\n\u001b[0;32m----> 3\u001b[0;31m     \u001b[0mtest_translations\u001b[0m\u001b[0;34m.\u001b[0m\u001b[0mappend\u001b[0m\u001b[0;34m(\u001b[0m\u001b[0mtranslator\u001b[0m\u001b[0;34m.\u001b[0m\u001b[0mtranslate\u001b[0m\u001b[0;34m(\u001b[0m\u001b[0mex\u001b[0m\u001b[0;34m[\u001b[0m\u001b[0;36m0\u001b[0m\u001b[0;34m]\u001b[0m\u001b[0;34m,\u001b[0m \u001b[0mdest\u001b[0m\u001b[0;34m=\u001b[0m\u001b[0;34m\"en\"\u001b[0m\u001b[0;34m)\u001b[0m\u001b[0;34m)\u001b[0m\u001b[0;34m\u001b[0m\u001b[0;34m\u001b[0m\u001b[0m\n\u001b[0m",
      "\u001b[0;32m~/.pyenv/versions/3.8.2/envs/opennmt/lib/python3.8/site-packages/googletrans/client.py\u001b[0m in \u001b[0;36mtranslate\u001b[0;34m(self, text, dest, src, **kwargs)\u001b[0m\n\u001b[1;32m    180\u001b[0m \u001b[0;34m\u001b[0m\u001b[0m\n\u001b[1;32m    181\u001b[0m         \u001b[0morigin\u001b[0m \u001b[0;34m=\u001b[0m \u001b[0mtext\u001b[0m\u001b[0;34m\u001b[0m\u001b[0;34m\u001b[0m\u001b[0m\n\u001b[0;32m--> 182\u001b[0;31m         \u001b[0mdata\u001b[0m \u001b[0;34m=\u001b[0m \u001b[0mself\u001b[0m\u001b[0;34m.\u001b[0m\u001b[0m_translate\u001b[0m\u001b[0;34m(\u001b[0m\u001b[0mtext\u001b[0m\u001b[0;34m,\u001b[0m \u001b[0mdest\u001b[0m\u001b[0;34m,\u001b[0m \u001b[0msrc\u001b[0m\u001b[0;34m,\u001b[0m \u001b[0mkwargs\u001b[0m\u001b[0;34m)\u001b[0m\u001b[0;34m\u001b[0m\u001b[0;34m\u001b[0m\u001b[0m\n\u001b[0m\u001b[1;32m    183\u001b[0m \u001b[0;34m\u001b[0m\u001b[0m\n\u001b[1;32m    184\u001b[0m         \u001b[0;31m# this code will be updated when the format is changed.\u001b[0m\u001b[0;34m\u001b[0m\u001b[0;34m\u001b[0m\u001b[0;34m\u001b[0m\u001b[0m\n",
      "\u001b[0;32m~/.pyenv/versions/3.8.2/envs/opennmt/lib/python3.8/site-packages/googletrans/client.py\u001b[0m in \u001b[0;36m_translate\u001b[0;34m(self, text, dest, src, override)\u001b[0m\n\u001b[1;32m     81\u001b[0m \u001b[0;34m\u001b[0m\u001b[0m\n\u001b[1;32m     82\u001b[0m         \u001b[0murl\u001b[0m \u001b[0;34m=\u001b[0m \u001b[0murls\u001b[0m\u001b[0;34m.\u001b[0m\u001b[0mTRANSLATE\u001b[0m\u001b[0;34m.\u001b[0m\u001b[0mformat\u001b[0m\u001b[0;34m(\u001b[0m\u001b[0mhost\u001b[0m\u001b[0;34m=\u001b[0m\u001b[0mself\u001b[0m\u001b[0;34m.\u001b[0m\u001b[0m_pick_service_url\u001b[0m\u001b[0;34m(\u001b[0m\u001b[0;34m)\u001b[0m\u001b[0;34m)\u001b[0m\u001b[0;34m\u001b[0m\u001b[0;34m\u001b[0m\u001b[0m\n\u001b[0;32m---> 83\u001b[0;31m         \u001b[0mr\u001b[0m \u001b[0;34m=\u001b[0m \u001b[0mself\u001b[0m\u001b[0;34m.\u001b[0m\u001b[0mclient\u001b[0m\u001b[0;34m.\u001b[0m\u001b[0mget\u001b[0m\u001b[0;34m(\u001b[0m\u001b[0murl\u001b[0m\u001b[0;34m,\u001b[0m \u001b[0mparams\u001b[0m\u001b[0;34m=\u001b[0m\u001b[0mparams\u001b[0m\u001b[0;34m)\u001b[0m\u001b[0;34m\u001b[0m\u001b[0;34m\u001b[0m\u001b[0m\n\u001b[0m\u001b[1;32m     84\u001b[0m \u001b[0;34m\u001b[0m\u001b[0m\n\u001b[1;32m     85\u001b[0m         \u001b[0;32mif\u001b[0m \u001b[0mr\u001b[0m\u001b[0;34m.\u001b[0m\u001b[0mstatus_code\u001b[0m \u001b[0;34m==\u001b[0m \u001b[0;36m200\u001b[0m\u001b[0;34m:\u001b[0m\u001b[0;34m\u001b[0m\u001b[0;34m\u001b[0m\u001b[0m\n",
      "\u001b[0;32m~/.pyenv/versions/3.8.2/envs/opennmt/lib/python3.8/site-packages/httpx/_client.py\u001b[0m in \u001b[0;36mget\u001b[0;34m(self, url, params, headers, cookies, auth, allow_redirects, timeout)\u001b[0m\n\u001b[1;32m    753\u001b[0m         \u001b[0mtimeout\u001b[0m\u001b[0;34m:\u001b[0m \u001b[0mtyping\u001b[0m\u001b[0;34m.\u001b[0m\u001b[0mUnion\u001b[0m\u001b[0;34m[\u001b[0m\u001b[0mTimeoutTypes\u001b[0m\u001b[0;34m,\u001b[0m \u001b[0mUnsetType\u001b[0m\u001b[0;34m]\u001b[0m \u001b[0;34m=\u001b[0m \u001b[0mUNSET\u001b[0m\u001b[0;34m,\u001b[0m\u001b[0;34m\u001b[0m\u001b[0;34m\u001b[0m\u001b[0m\n\u001b[1;32m    754\u001b[0m     ) -> Response:\n\u001b[0;32m--> 755\u001b[0;31m         return self.request(\n\u001b[0m\u001b[1;32m    756\u001b[0m             \u001b[0;34m\"GET\"\u001b[0m\u001b[0;34m,\u001b[0m\u001b[0;34m\u001b[0m\u001b[0;34m\u001b[0m\u001b[0m\n\u001b[1;32m    757\u001b[0m             \u001b[0murl\u001b[0m\u001b[0;34m,\u001b[0m\u001b[0;34m\u001b[0m\u001b[0;34m\u001b[0m\u001b[0m\n",
      "\u001b[0;32m~/.pyenv/versions/3.8.2/envs/opennmt/lib/python3.8/site-packages/httpx/_client.py\u001b[0m in \u001b[0;36mrequest\u001b[0;34m(self, method, url, data, files, json, params, headers, cookies, auth, allow_redirects, timeout)\u001b[0m\n\u001b[1;32m    598\u001b[0m             \u001b[0mcookies\u001b[0m\u001b[0;34m=\u001b[0m\u001b[0mcookies\u001b[0m\u001b[0;34m,\u001b[0m\u001b[0;34m\u001b[0m\u001b[0;34m\u001b[0m\u001b[0m\n\u001b[1;32m    599\u001b[0m         )\n\u001b[0;32m--> 600\u001b[0;31m         return self.send(\n\u001b[0m\u001b[1;32m    601\u001b[0m             \u001b[0mrequest\u001b[0m\u001b[0;34m,\u001b[0m \u001b[0mauth\u001b[0m\u001b[0;34m=\u001b[0m\u001b[0mauth\u001b[0m\u001b[0;34m,\u001b[0m \u001b[0mallow_redirects\u001b[0m\u001b[0;34m=\u001b[0m\u001b[0mallow_redirects\u001b[0m\u001b[0;34m,\u001b[0m \u001b[0mtimeout\u001b[0m\u001b[0;34m=\u001b[0m\u001b[0mtimeout\u001b[0m\u001b[0;34m,\u001b[0m\u001b[0;34m\u001b[0m\u001b[0;34m\u001b[0m\u001b[0m\n\u001b[1;32m    602\u001b[0m         )\n",
      "\u001b[0;32m~/.pyenv/versions/3.8.2/envs/opennmt/lib/python3.8/site-packages/httpx/_client.py\u001b[0m in \u001b[0;36msend\u001b[0;34m(self, request, stream, auth, allow_redirects, timeout)\u001b[0m\n\u001b[1;32m    618\u001b[0m         \u001b[0mauth\u001b[0m \u001b[0;34m=\u001b[0m \u001b[0mself\u001b[0m\u001b[0;34m.\u001b[0m\u001b[0mbuild_auth\u001b[0m\u001b[0;34m(\u001b[0m\u001b[0mrequest\u001b[0m\u001b[0;34m,\u001b[0m \u001b[0mauth\u001b[0m\u001b[0;34m)\u001b[0m\u001b[0;34m\u001b[0m\u001b[0;34m\u001b[0m\u001b[0m\n\u001b[1;32m    619\u001b[0m \u001b[0;34m\u001b[0m\u001b[0m\n\u001b[0;32m--> 620\u001b[0;31m         response = self.send_handling_redirects(\n\u001b[0m\u001b[1;32m    621\u001b[0m             \u001b[0mrequest\u001b[0m\u001b[0;34m,\u001b[0m \u001b[0mauth\u001b[0m\u001b[0;34m=\u001b[0m\u001b[0mauth\u001b[0m\u001b[0;34m,\u001b[0m \u001b[0mtimeout\u001b[0m\u001b[0;34m=\u001b[0m\u001b[0mtimeout\u001b[0m\u001b[0;34m,\u001b[0m \u001b[0mallow_redirects\u001b[0m\u001b[0;34m=\u001b[0m\u001b[0mallow_redirects\u001b[0m\u001b[0;34m,\u001b[0m\u001b[0;34m\u001b[0m\u001b[0;34m\u001b[0m\u001b[0m\n\u001b[1;32m    622\u001b[0m         )\n",
      "\u001b[0;32m~/.pyenv/versions/3.8.2/envs/opennmt/lib/python3.8/site-packages/httpx/_client.py\u001b[0m in \u001b[0;36msend_handling_redirects\u001b[0;34m(self, request, auth, timeout, allow_redirects, history)\u001b[0m\n\u001b[1;32m    645\u001b[0m                 \u001b[0;32mraise\u001b[0m \u001b[0mTooManyRedirects\u001b[0m\u001b[0;34m(\u001b[0m\u001b[0;34m)\u001b[0m\u001b[0;34m\u001b[0m\u001b[0;34m\u001b[0m\u001b[0m\n\u001b[1;32m    646\u001b[0m \u001b[0;34m\u001b[0m\u001b[0m\n\u001b[0;32m--> 647\u001b[0;31m             response = self.send_handling_auth(\n\u001b[0m\u001b[1;32m    648\u001b[0m                 \u001b[0mrequest\u001b[0m\u001b[0;34m,\u001b[0m \u001b[0mauth\u001b[0m\u001b[0;34m=\u001b[0m\u001b[0mauth\u001b[0m\u001b[0;34m,\u001b[0m \u001b[0mtimeout\u001b[0m\u001b[0;34m=\u001b[0m\u001b[0mtimeout\u001b[0m\u001b[0;34m,\u001b[0m \u001b[0mhistory\u001b[0m\u001b[0;34m=\u001b[0m\u001b[0mhistory\u001b[0m\u001b[0;34m\u001b[0m\u001b[0;34m\u001b[0m\u001b[0m\n\u001b[1;32m    649\u001b[0m             )\n",
      "\u001b[0;32m~/.pyenv/versions/3.8.2/envs/opennmt/lib/python3.8/site-packages/httpx/_client.py\u001b[0m in \u001b[0;36msend_handling_auth\u001b[0;34m(self, request, history, auth, timeout)\u001b[0m\n\u001b[1;32m    682\u001b[0m         \u001b[0mrequest\u001b[0m \u001b[0;34m=\u001b[0m \u001b[0mnext\u001b[0m\u001b[0;34m(\u001b[0m\u001b[0mauth_flow\u001b[0m\u001b[0;34m)\u001b[0m\u001b[0;34m\u001b[0m\u001b[0;34m\u001b[0m\u001b[0m\n\u001b[1;32m    683\u001b[0m         \u001b[0;32mwhile\u001b[0m \u001b[0;32mTrue\u001b[0m\u001b[0;34m:\u001b[0m\u001b[0;34m\u001b[0m\u001b[0;34m\u001b[0m\u001b[0m\n\u001b[0;32m--> 684\u001b[0;31m             \u001b[0mresponse\u001b[0m \u001b[0;34m=\u001b[0m \u001b[0mself\u001b[0m\u001b[0;34m.\u001b[0m\u001b[0msend_single_request\u001b[0m\u001b[0;34m(\u001b[0m\u001b[0mrequest\u001b[0m\u001b[0;34m,\u001b[0m \u001b[0mtimeout\u001b[0m\u001b[0;34m)\u001b[0m\u001b[0;34m\u001b[0m\u001b[0;34m\u001b[0m\u001b[0m\n\u001b[0m\u001b[1;32m    685\u001b[0m             \u001b[0;32mif\u001b[0m \u001b[0mauth\u001b[0m\u001b[0;34m.\u001b[0m\u001b[0mrequires_response_body\u001b[0m\u001b[0;34m:\u001b[0m\u001b[0;34m\u001b[0m\u001b[0;34m\u001b[0m\u001b[0m\n\u001b[1;32m    686\u001b[0m                 \u001b[0mresponse\u001b[0m\u001b[0;34m.\u001b[0m\u001b[0mread\u001b[0m\u001b[0;34m(\u001b[0m\u001b[0;34m)\u001b[0m\u001b[0;34m\u001b[0m\u001b[0;34m\u001b[0m\u001b[0m\n",
      "\u001b[0;32m~/.pyenv/versions/3.8.2/envs/opennmt/lib/python3.8/site-packages/httpx/_client.py\u001b[0m in \u001b[0;36msend_single_request\u001b[0;34m(self, request, timeout)\u001b[0m\n\u001b[1;32m    712\u001b[0m                 \u001b[0mheaders\u001b[0m\u001b[0;34m,\u001b[0m\u001b[0;34m\u001b[0m\u001b[0;34m\u001b[0m\u001b[0m\n\u001b[1;32m    713\u001b[0m                 \u001b[0mstream\u001b[0m\u001b[0;34m,\u001b[0m\u001b[0;34m\u001b[0m\u001b[0;34m\u001b[0m\u001b[0m\n\u001b[0;32m--> 714\u001b[0;31m             \u001b[0;34m)\u001b[0m \u001b[0;34m=\u001b[0m \u001b[0mtransport\u001b[0m\u001b[0;34m.\u001b[0m\u001b[0mrequest\u001b[0m\u001b[0;34m(\u001b[0m\u001b[0;34m\u001b[0m\u001b[0;34m\u001b[0m\u001b[0m\n\u001b[0m\u001b[1;32m    715\u001b[0m                 \u001b[0mrequest\u001b[0m\u001b[0;34m.\u001b[0m\u001b[0mmethod\u001b[0m\u001b[0;34m.\u001b[0m\u001b[0mencode\u001b[0m\u001b[0;34m(\u001b[0m\u001b[0;34m)\u001b[0m\u001b[0;34m,\u001b[0m\u001b[0;34m\u001b[0m\u001b[0;34m\u001b[0m\u001b[0m\n\u001b[1;32m    716\u001b[0m                 \u001b[0mrequest\u001b[0m\u001b[0;34m.\u001b[0m\u001b[0murl\u001b[0m\u001b[0;34m.\u001b[0m\u001b[0mraw\u001b[0m\u001b[0;34m,\u001b[0m\u001b[0;34m\u001b[0m\u001b[0;34m\u001b[0m\u001b[0m\n",
      "\u001b[0;32m~/.pyenv/versions/3.8.2/envs/opennmt/lib/python3.8/site-packages/httpcore/_sync/connection_pool.py\u001b[0m in \u001b[0;36mrequest\u001b[0;34m(self, method, url, headers, stream, timeout)\u001b[0m\n\u001b[1;32m    150\u001b[0m \u001b[0;34m\u001b[0m\u001b[0m\n\u001b[1;32m    151\u001b[0m             \u001b[0;32mtry\u001b[0m\u001b[0;34m:\u001b[0m\u001b[0;34m\u001b[0m\u001b[0;34m\u001b[0m\u001b[0m\n\u001b[0;32m--> 152\u001b[0;31m                 response = connection.request(\n\u001b[0m\u001b[1;32m    153\u001b[0m                     \u001b[0mmethod\u001b[0m\u001b[0;34m,\u001b[0m \u001b[0murl\u001b[0m\u001b[0;34m,\u001b[0m \u001b[0mheaders\u001b[0m\u001b[0;34m=\u001b[0m\u001b[0mheaders\u001b[0m\u001b[0;34m,\u001b[0m \u001b[0mstream\u001b[0m\u001b[0;34m=\u001b[0m\u001b[0mstream\u001b[0m\u001b[0;34m,\u001b[0m \u001b[0mtimeout\u001b[0m\u001b[0;34m=\u001b[0m\u001b[0mtimeout\u001b[0m\u001b[0;34m\u001b[0m\u001b[0;34m\u001b[0m\u001b[0m\n\u001b[1;32m    154\u001b[0m                 )\n",
      "\u001b[0;32m~/.pyenv/versions/3.8.2/envs/opennmt/lib/python3.8/site-packages/httpcore/_sync/connection.py\u001b[0m in \u001b[0;36mrequest\u001b[0;34m(self, method, url, headers, stream, timeout)\u001b[0m\n\u001b[1;32m     76\u001b[0m             \u001b[0;34m\"connection.request method=%r url=%r headers=%r\"\u001b[0m\u001b[0;34m,\u001b[0m \u001b[0mmethod\u001b[0m\u001b[0;34m,\u001b[0m \u001b[0murl\u001b[0m\u001b[0;34m,\u001b[0m \u001b[0mheaders\u001b[0m\u001b[0;34m\u001b[0m\u001b[0;34m\u001b[0m\u001b[0m\n\u001b[1;32m     77\u001b[0m         )\n\u001b[0;32m---> 78\u001b[0;31m         \u001b[0;32mreturn\u001b[0m \u001b[0mself\u001b[0m\u001b[0;34m.\u001b[0m\u001b[0mconnection\u001b[0m\u001b[0;34m.\u001b[0m\u001b[0mrequest\u001b[0m\u001b[0;34m(\u001b[0m\u001b[0mmethod\u001b[0m\u001b[0;34m,\u001b[0m \u001b[0murl\u001b[0m\u001b[0;34m,\u001b[0m \u001b[0mheaders\u001b[0m\u001b[0;34m,\u001b[0m \u001b[0mstream\u001b[0m\u001b[0;34m,\u001b[0m \u001b[0mtimeout\u001b[0m\u001b[0;34m)\u001b[0m\u001b[0;34m\u001b[0m\u001b[0;34m\u001b[0m\u001b[0m\n\u001b[0m\u001b[1;32m     79\u001b[0m \u001b[0;34m\u001b[0m\u001b[0m\n\u001b[1;32m     80\u001b[0m     \u001b[0;32mdef\u001b[0m \u001b[0m_open_socket\u001b[0m\u001b[0;34m(\u001b[0m\u001b[0mself\u001b[0m\u001b[0;34m,\u001b[0m \u001b[0mtimeout\u001b[0m\u001b[0;34m:\u001b[0m \u001b[0mTimeoutDict\u001b[0m \u001b[0;34m=\u001b[0m \u001b[0;32mNone\u001b[0m\u001b[0;34m)\u001b[0m \u001b[0;34m->\u001b[0m \u001b[0mSyncSocketStream\u001b[0m\u001b[0;34m:\u001b[0m\u001b[0;34m\u001b[0m\u001b[0;34m\u001b[0m\u001b[0m\n",
      "\u001b[0;32m~/.pyenv/versions/3.8.2/envs/opennmt/lib/python3.8/site-packages/httpcore/_sync/http11.py\u001b[0m in \u001b[0;36mrequest\u001b[0;34m(self, method, url, headers, stream, timeout)\u001b[0m\n\u001b[1;32m     60\u001b[0m             \u001b[0mreason_phrase\u001b[0m\u001b[0;34m,\u001b[0m\u001b[0;34m\u001b[0m\u001b[0;34m\u001b[0m\u001b[0m\n\u001b[1;32m     61\u001b[0m             \u001b[0mheaders\u001b[0m\u001b[0;34m,\u001b[0m\u001b[0;34m\u001b[0m\u001b[0;34m\u001b[0m\u001b[0m\n\u001b[0;32m---> 62\u001b[0;31m         ) = self._receive_response(timeout)\n\u001b[0m\u001b[1;32m     63\u001b[0m         stream = SyncByteStream(\n\u001b[1;32m     64\u001b[0m             \u001b[0miterator\u001b[0m\u001b[0;34m=\u001b[0m\u001b[0mself\u001b[0m\u001b[0;34m.\u001b[0m\u001b[0m_receive_response_data\u001b[0m\u001b[0;34m(\u001b[0m\u001b[0mtimeout\u001b[0m\u001b[0;34m)\u001b[0m\u001b[0;34m,\u001b[0m\u001b[0;34m\u001b[0m\u001b[0;34m\u001b[0m\u001b[0m\n",
      "\u001b[0;32m~/.pyenv/versions/3.8.2/envs/opennmt/lib/python3.8/site-packages/httpcore/_sync/http11.py\u001b[0m in \u001b[0;36m_receive_response\u001b[0;34m(self, timeout)\u001b[0m\n\u001b[1;32m    113\u001b[0m         \"\"\"\n\u001b[1;32m    114\u001b[0m         \u001b[0;32mwhile\u001b[0m \u001b[0;32mTrue\u001b[0m\u001b[0;34m:\u001b[0m\u001b[0;34m\u001b[0m\u001b[0;34m\u001b[0m\u001b[0m\n\u001b[0;32m--> 115\u001b[0;31m             \u001b[0mevent\u001b[0m \u001b[0;34m=\u001b[0m \u001b[0mself\u001b[0m\u001b[0;34m.\u001b[0m\u001b[0m_receive_event\u001b[0m\u001b[0;34m(\u001b[0m\u001b[0mtimeout\u001b[0m\u001b[0;34m)\u001b[0m\u001b[0;34m\u001b[0m\u001b[0;34m\u001b[0m\u001b[0m\n\u001b[0m\u001b[1;32m    116\u001b[0m             \u001b[0;32mif\u001b[0m \u001b[0misinstance\u001b[0m\u001b[0;34m(\u001b[0m\u001b[0mevent\u001b[0m\u001b[0;34m,\u001b[0m \u001b[0mh11\u001b[0m\u001b[0;34m.\u001b[0m\u001b[0mResponse\u001b[0m\u001b[0;34m)\u001b[0m\u001b[0;34m:\u001b[0m\u001b[0;34m\u001b[0m\u001b[0;34m\u001b[0m\u001b[0m\n\u001b[1;32m    117\u001b[0m                 \u001b[0;32mbreak\u001b[0m\u001b[0;34m\u001b[0m\u001b[0;34m\u001b[0m\u001b[0m\n",
      "\u001b[0;32m~/.pyenv/versions/3.8.2/envs/opennmt/lib/python3.8/site-packages/httpcore/_sync/http11.py\u001b[0m in \u001b[0;36m_receive_event\u001b[0;34m(self, timeout)\u001b[0m\n\u001b[1;32m    143\u001b[0m \u001b[0;34m\u001b[0m\u001b[0m\n\u001b[1;32m    144\u001b[0m             \u001b[0;32mif\u001b[0m \u001b[0mevent\u001b[0m \u001b[0;32mis\u001b[0m \u001b[0mh11\u001b[0m\u001b[0;34m.\u001b[0m\u001b[0mNEED_DATA\u001b[0m\u001b[0;34m:\u001b[0m\u001b[0;34m\u001b[0m\u001b[0;34m\u001b[0m\u001b[0m\n\u001b[0;32m--> 145\u001b[0;31m                 \u001b[0mdata\u001b[0m \u001b[0;34m=\u001b[0m \u001b[0mself\u001b[0m\u001b[0;34m.\u001b[0m\u001b[0msocket\u001b[0m\u001b[0;34m.\u001b[0m\u001b[0mread\u001b[0m\u001b[0;34m(\u001b[0m\u001b[0mself\u001b[0m\u001b[0;34m.\u001b[0m\u001b[0mREAD_NUM_BYTES\u001b[0m\u001b[0;34m,\u001b[0m \u001b[0mtimeout\u001b[0m\u001b[0;34m)\u001b[0m\u001b[0;34m\u001b[0m\u001b[0;34m\u001b[0m\u001b[0m\n\u001b[0m\u001b[1;32m    146\u001b[0m                 \u001b[0mself\u001b[0m\u001b[0;34m.\u001b[0m\u001b[0mh11_state\u001b[0m\u001b[0;34m.\u001b[0m\u001b[0mreceive_data\u001b[0m\u001b[0;34m(\u001b[0m\u001b[0mdata\u001b[0m\u001b[0;34m)\u001b[0m\u001b[0;34m\u001b[0m\u001b[0;34m\u001b[0m\u001b[0m\n\u001b[1;32m    147\u001b[0m             \u001b[0;32melse\u001b[0m\u001b[0;34m:\u001b[0m\u001b[0;34m\u001b[0m\u001b[0;34m\u001b[0m\u001b[0m\n",
      "\u001b[0;32m~/.pyenv/versions/3.8.2/envs/opennmt/lib/python3.8/site-packages/httpcore/_backends/sync.py\u001b[0m in \u001b[0;36mread\u001b[0;34m(self, n, timeout)\u001b[0m\n\u001b[1;32m     60\u001b[0m             \u001b[0;32mwith\u001b[0m \u001b[0mmap_exceptions\u001b[0m\u001b[0;34m(\u001b[0m\u001b[0mexc_map\u001b[0m\u001b[0;34m)\u001b[0m\u001b[0;34m:\u001b[0m\u001b[0;34m\u001b[0m\u001b[0;34m\u001b[0m\u001b[0m\n\u001b[1;32m     61\u001b[0m                 \u001b[0mself\u001b[0m\u001b[0;34m.\u001b[0m\u001b[0msock\u001b[0m\u001b[0;34m.\u001b[0m\u001b[0msettimeout\u001b[0m\u001b[0;34m(\u001b[0m\u001b[0mread_timeout\u001b[0m\u001b[0;34m)\u001b[0m\u001b[0;34m\u001b[0m\u001b[0;34m\u001b[0m\u001b[0m\n\u001b[0;32m---> 62\u001b[0;31m                 \u001b[0;32mreturn\u001b[0m \u001b[0mself\u001b[0m\u001b[0;34m.\u001b[0m\u001b[0msock\u001b[0m\u001b[0;34m.\u001b[0m\u001b[0mrecv\u001b[0m\u001b[0;34m(\u001b[0m\u001b[0mn\u001b[0m\u001b[0;34m)\u001b[0m\u001b[0;34m\u001b[0m\u001b[0;34m\u001b[0m\u001b[0m\n\u001b[0m\u001b[1;32m     63\u001b[0m \u001b[0;34m\u001b[0m\u001b[0m\n\u001b[1;32m     64\u001b[0m     \u001b[0;32mdef\u001b[0m \u001b[0mwrite\u001b[0m\u001b[0;34m(\u001b[0m\u001b[0mself\u001b[0m\u001b[0;34m,\u001b[0m \u001b[0mdata\u001b[0m\u001b[0;34m:\u001b[0m \u001b[0mbytes\u001b[0m\u001b[0;34m,\u001b[0m \u001b[0mtimeout\u001b[0m\u001b[0;34m:\u001b[0m \u001b[0mTimeoutDict\u001b[0m\u001b[0;34m)\u001b[0m \u001b[0;34m->\u001b[0m \u001b[0;32mNone\u001b[0m\u001b[0;34m:\u001b[0m\u001b[0;34m\u001b[0m\u001b[0;34m\u001b[0m\u001b[0m\n",
      "\u001b[0;32m~/.pyenv/versions/3.8.2/lib/python3.8/ssl.py\u001b[0m in \u001b[0;36mrecv\u001b[0;34m(self, buflen, flags)\u001b[0m\n\u001b[1;32m   1224\u001b[0m                     \u001b[0;34m\"non-zero flags not allowed in calls to recv() on %s\"\u001b[0m \u001b[0;34m%\u001b[0m\u001b[0;34m\u001b[0m\u001b[0;34m\u001b[0m\u001b[0m\n\u001b[1;32m   1225\u001b[0m                     self.__class__)\n\u001b[0;32m-> 1226\u001b[0;31m             \u001b[0;32mreturn\u001b[0m \u001b[0mself\u001b[0m\u001b[0;34m.\u001b[0m\u001b[0mread\u001b[0m\u001b[0;34m(\u001b[0m\u001b[0mbuflen\u001b[0m\u001b[0;34m)\u001b[0m\u001b[0;34m\u001b[0m\u001b[0;34m\u001b[0m\u001b[0m\n\u001b[0m\u001b[1;32m   1227\u001b[0m         \u001b[0;32melse\u001b[0m\u001b[0;34m:\u001b[0m\u001b[0;34m\u001b[0m\u001b[0;34m\u001b[0m\u001b[0m\n\u001b[1;32m   1228\u001b[0m             \u001b[0;32mreturn\u001b[0m \u001b[0msuper\u001b[0m\u001b[0;34m(\u001b[0m\u001b[0;34m)\u001b[0m\u001b[0;34m.\u001b[0m\u001b[0mrecv\u001b[0m\u001b[0;34m(\u001b[0m\u001b[0mbuflen\u001b[0m\u001b[0;34m,\u001b[0m \u001b[0mflags\u001b[0m\u001b[0;34m)\u001b[0m\u001b[0;34m\u001b[0m\u001b[0;34m\u001b[0m\u001b[0m\n",
      "\u001b[0;32m~/.pyenv/versions/3.8.2/lib/python3.8/ssl.py\u001b[0m in \u001b[0;36mread\u001b[0;34m(self, len, buffer)\u001b[0m\n\u001b[1;32m   1099\u001b[0m                 \u001b[0;32mreturn\u001b[0m \u001b[0mself\u001b[0m\u001b[0;34m.\u001b[0m\u001b[0m_sslobj\u001b[0m\u001b[0;34m.\u001b[0m\u001b[0mread\u001b[0m\u001b[0;34m(\u001b[0m\u001b[0mlen\u001b[0m\u001b[0;34m,\u001b[0m \u001b[0mbuffer\u001b[0m\u001b[0;34m)\u001b[0m\u001b[0;34m\u001b[0m\u001b[0;34m\u001b[0m\u001b[0m\n\u001b[1;32m   1100\u001b[0m             \u001b[0;32melse\u001b[0m\u001b[0;34m:\u001b[0m\u001b[0;34m\u001b[0m\u001b[0;34m\u001b[0m\u001b[0m\n\u001b[0;32m-> 1101\u001b[0;31m                 \u001b[0;32mreturn\u001b[0m \u001b[0mself\u001b[0m\u001b[0;34m.\u001b[0m\u001b[0m_sslobj\u001b[0m\u001b[0;34m.\u001b[0m\u001b[0mread\u001b[0m\u001b[0;34m(\u001b[0m\u001b[0mlen\u001b[0m\u001b[0;34m)\u001b[0m\u001b[0;34m\u001b[0m\u001b[0;34m\u001b[0m\u001b[0m\n\u001b[0m\u001b[1;32m   1102\u001b[0m         \u001b[0;32mexcept\u001b[0m \u001b[0mSSLError\u001b[0m \u001b[0;32mas\u001b[0m \u001b[0mx\u001b[0m\u001b[0;34m:\u001b[0m\u001b[0;34m\u001b[0m\u001b[0;34m\u001b[0m\u001b[0m\n\u001b[1;32m   1103\u001b[0m             \u001b[0;32mif\u001b[0m \u001b[0mx\u001b[0m\u001b[0;34m.\u001b[0m\u001b[0margs\u001b[0m\u001b[0;34m[\u001b[0m\u001b[0;36m0\u001b[0m\u001b[0;34m]\u001b[0m \u001b[0;34m==\u001b[0m \u001b[0mSSL_ERROR_EOF\u001b[0m \u001b[0;32mand\u001b[0m \u001b[0mself\u001b[0m\u001b[0;34m.\u001b[0m\u001b[0msuppress_ragged_eofs\u001b[0m\u001b[0;34m:\u001b[0m\u001b[0;34m\u001b[0m\u001b[0;34m\u001b[0m\u001b[0m\n",
      "\u001b[0;31mKeyboardInterrupt\u001b[0m: "
     ]
    }
   ],
   "source": [
    "test_translations = []\n",
    "for ex in test_tcn_data:\n",
    "    test_translations.append(translator.translate(ex[0], dest=\"en\"))"
   ]
  },
  {
   "cell_type": "code",
   "execution_count": 23,
   "metadata": {},
   "outputs": [
    {
     "data": {
      "text/plain": [
       "3000"
      ]
     },
     "execution_count": 23,
     "metadata": {},
     "output_type": "execute_result"
    }
   ],
   "source": [
    "len(test_tcn_data)"
   ]
  },
  {
   "cell_type": "code",
   "execution_count": null,
   "metadata": {},
   "outputs": [],
   "source": []
  }
 ],
 "metadata": {
  "kernelspec": {
   "display_name": "Python 3",
   "language": "python",
   "name": "python3"
  },
  "language_info": {
   "codemirror_mode": {
    "name": "ipython",
    "version": 3
   },
   "file_extension": ".py",
   "mimetype": "text/x-python",
   "name": "python",
   "nbconvert_exporter": "python",
   "pygments_lexer": "ipython3",
   "version": "3.8.2"
  }
 },
 "nbformat": 4,
 "nbformat_minor": 4
}
